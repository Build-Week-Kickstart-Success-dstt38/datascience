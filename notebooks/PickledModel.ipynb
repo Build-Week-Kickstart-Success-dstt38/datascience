{
 "cells": [
  {
   "cell_type": "code",
   "execution_count": 117,
   "metadata": {},
   "outputs": [],
   "source": [
    "# Imports\n",
    "\n",
    "import os\n",
    "import pickle\n",
    "import datetime\n",
    "\n",
    "import numpy as np\n",
    "import pandas as pd\n",
    "import spacy\n",
    "\n",
    "from datetime import datetime\n",
    "from spacy.tokenizer import Tokenizer\n",
    "from spacy.lang.en.stop_words import STOP_WORDS\n",
    "from sklearn.feature_extraction.text import TfidfVectorizer\n",
    "from sklearn.ensemble import GradientBoostingClassifier\n",
    "from scipy.stats import randint\n",
    "from sklearn.preprocessing import FunctionTransformer\n",
    "from sklearn.pipeline import Pipeline\n",
    "from sklearn.model_selection import train_test_split\n",
    "from category_encoders import OneHotEncoder"
   ]
  },
  {
   "cell_type": "code",
   "execution_count": 118,
   "metadata": {},
   "outputs": [],
   "source": [
    "# Loading .csv\n",
    "\n",
    "df = pd.read_csv(\"ks-projects-201801.csv\")"
   ]
  },
  {
   "cell_type": "code",
   "execution_count": 119,
   "metadata": {},
   "outputs": [],
   "source": [
    "# Dropping features, filtering down to only useful observations\n",
    "\n",
    "df = df.drop([\"pledged\", \"backers\", \"usd pledged\", \"usd_pledged_real\", \"usd_goal_real\"], axis=1)\n",
    "\n",
    "mask = df['currency'] == 'USD'\n",
    "df = df[mask]\n",
    "mask = df['country'] == 'US'\n",
    "df = df[mask]\n",
    "\n",
    "df = df[(df['state'] == 'successful') | (df['state'] == 'failed')]"
   ]
  },
  {
   "cell_type": "code",
   "execution_count": 120,
   "metadata": {},
   "outputs": [],
   "source": [
    "# Campaign length feature engineered\n",
    "\n",
    "df['deadline']= pd.to_datetime(df['deadline'])\n",
    "df['launched'] = pd.to_datetime(df['launched'])\n",
    "df['campaign length'] = df['deadline'] - df['launched']\n",
    "\n",
    "df['campaign length'] = df['campaign length'].astype(str)\n",
    "df['campaign length'] = df['campaign length'].apply(lambda x: x[:2])"
   ]
  },
  {
   "cell_type": "code",
   "execution_count": 121,
   "metadata": {},
   "outputs": [],
   "source": [
    "# Dropping other features\n",
    "\n",
    "df = df.drop(['deadline', 'launched', 'country', 'ID', 'currency', 'main_category'], axis=1)"
   ]
  },
  {
   "cell_type": "code",
   "execution_count": 122,
   "metadata": {},
   "outputs": [],
   "source": [
    "# Using small sample of dataframe to reduce computational time\n",
    "\n",
    "df = df.sample(1000)"
   ]
  },
  {
   "cell_type": "code",
   "execution_count": 124,
   "metadata": {},
   "outputs": [],
   "source": [
    "# NLP for vectorization, pipeline using OHE and GBC predictor\n",
    "\n",
    "nlp = spacy.load(\"en_core_web_md\")\n",
    "gbc = GradientBoostingClassifier(loss='deviance')\n",
    "ohe = OneHotEncoder()\n",
    "pipe = Pipeline([\n",
    "    ('encoder', ohe),\n",
    "    ('clf', gbc)\n",
    "    ])"
   ]
  },
  {
   "cell_type": "code",
   "execution_count": 125,
   "metadata": {},
   "outputs": [],
   "source": [
    "# Vectorization of text feature\n",
    "\n",
    "df2 = pd.DataFrame([nlp(str(d)).vector for d in df['name']])"
   ]
  },
  {
   "cell_type": "code",
   "execution_count": 134,
   "metadata": {},
   "outputs": [],
   "source": [
    "# Adding features onto vector dataframe\n",
    "\n",
    "df.index = df2.index\n",
    "df2['category'] = df['category']\n",
    "df2['goal'] = df['goal']\n",
    "df2['campaign length'] = df['campaign length'].astype(int)"
   ]
  },
  {
   "cell_type": "code",
   "execution_count": 135,
   "metadata": {},
   "outputs": [],
   "source": [
    "# Feature matrix and target\n",
    "\n",
    "X = df2\n",
    "y = df['state']"
   ]
  },
  {
   "cell_type": "code",
   "execution_count": 136,
   "metadata": {},
   "outputs": [],
   "source": [
    "# Train-test split\n",
    "\n",
    "X_train, X_test, y_train, y_test = train_test_split(X, y, \n",
    "                                                    test_size=0.2, \n",
    "                                                    random_state=1, \n",
    "                                                    shuffle=True,\n",
    "                                                    stratify=y)"
   ]
  },
  {
   "cell_type": "code",
   "execution_count": 137,
   "metadata": {},
   "outputs": [
    {
     "name": "stderr",
     "output_type": "stream",
     "text": [
      "/Users/micahswain/.local/share/virtualenvs/kickstarter_success-cyjBXNL6/lib/python3.7/site-packages/category_encoders/utils.py:21: FutureWarning: is_categorical is deprecated and will be removed in a future version.  Use is_categorical_dtype instead\n",
      "  elif pd.api.types.is_categorical(cols):\n"
     ]
    },
    {
     "data": {
      "text/plain": [
       "Pipeline(steps=[('encoder',\n",
       "                 OneHotEncoder(cols=['category', 'campaign length'])),\n",
       "                ('clf', GradientBoostingClassifier())])"
      ]
     },
     "execution_count": 137,
     "metadata": {},
     "output_type": "execute_result"
    }
   ],
   "source": [
    "# Fitting model\n",
    "\n",
    "pipe.fit(X,y)"
   ]
  },
  {
   "cell_type": "code",
   "execution_count": 139,
   "metadata": {},
   "outputs": [],
   "source": [
    "# Pickling model\n",
    "\n",
    "gbnlp = open('gbnlp_pickle', 'wb') \n",
    "pickle.dump(pipe, gbnlp)"
   ]
  },
  {
   "cell_type": "code",
   "execution_count": 140,
   "metadata": {},
   "outputs": [],
   "source": [
    "# Loading pickled model\n",
    "\n",
    "loaded_model = pickle.load(open('gbnlp_pickle', 'rb'))"
   ]
  },
  {
   "cell_type": "code",
   "execution_count": 141,
   "metadata": {},
   "outputs": [
    {
     "data": {
      "text/plain": [
       "pandas.core.frame.DataFrame"
      ]
     },
     "execution_count": 141,
     "metadata": {},
     "output_type": "execute_result"
    }
   ],
   "source": [
    "type(df2.head(1))"
   ]
  },
  {
   "cell_type": "code",
   "execution_count": 142,
   "metadata": {},
   "outputs": [
    {
     "data": {
      "text/plain": [
       "array(['failed'], dtype=object)"
      ]
     },
     "execution_count": 142,
     "metadata": {},
     "output_type": "execute_result"
    }
   ],
   "source": [
    "loaded_model.predict(X.head(1))"
   ]
  },
  {
   "cell_type": "code",
   "execution_count": 181,
   "metadata": {},
   "outputs": [],
   "source": [
    "goal = 500\n",
    "length=30\n",
    "description='Do it'\n",
    "category='Game'"
   ]
  },
  {
   "cell_type": "code",
   "execution_count": 182,
   "metadata": {},
   "outputs": [],
   "source": [
    "desc_vectorized = pd.DataFrame(nlp(description).vector)"
   ]
  },
  {
   "cell_type": "code",
   "execution_count": 183,
   "metadata": {},
   "outputs": [],
   "source": [
    "X_new = desc_vectorized.T\n",
    "X_new['category'] = category\n",
    "X_new['goal'] = goal\n",
    "X_new['campaign length'] = length"
   ]
  },
  {
   "cell_type": "code",
   "execution_count": 184,
   "metadata": {},
   "outputs": [
    {
     "data": {
      "text/html": [
       "<div>\n",
       "<style scoped>\n",
       "    .dataframe tbody tr th:only-of-type {\n",
       "        vertical-align: middle;\n",
       "    }\n",
       "\n",
       "    .dataframe tbody tr th {\n",
       "        vertical-align: top;\n",
       "    }\n",
       "\n",
       "    .dataframe thead th {\n",
       "        text-align: right;\n",
       "    }\n",
       "</style>\n",
       "<table border=\"1\" class=\"dataframe\">\n",
       "  <thead>\n",
       "    <tr style=\"text-align: right;\">\n",
       "      <th></th>\n",
       "      <th>0</th>\n",
       "      <th>1</th>\n",
       "      <th>2</th>\n",
       "      <th>3</th>\n",
       "      <th>4</th>\n",
       "      <th>5</th>\n",
       "      <th>6</th>\n",
       "      <th>7</th>\n",
       "      <th>8</th>\n",
       "      <th>9</th>\n",
       "      <th>...</th>\n",
       "      <th>293</th>\n",
       "      <th>294</th>\n",
       "      <th>295</th>\n",
       "      <th>296</th>\n",
       "      <th>297</th>\n",
       "      <th>298</th>\n",
       "      <th>299</th>\n",
       "      <th>category</th>\n",
       "      <th>goal</th>\n",
       "      <th>campaign length</th>\n",
       "    </tr>\n",
       "  </thead>\n",
       "  <tbody>\n",
       "    <tr>\n",
       "      <th>0</th>\n",
       "      <td>-0.006584</td>\n",
       "      <td>0.142384</td>\n",
       "      <td>-0.325879</td>\n",
       "      <td>-0.163085</td>\n",
       "      <td>0.007788</td>\n",
       "      <td>0.021567</td>\n",
       "      <td>-0.104288</td>\n",
       "      <td>-0.079318</td>\n",
       "      <td>-0.15804</td>\n",
       "      <td>2.58415</td>\n",
       "      <td>...</td>\n",
       "      <td>-0.113279</td>\n",
       "      <td>0.101291</td>\n",
       "      <td>-0.08756</td>\n",
       "      <td>-0.18719</td>\n",
       "      <td>-0.1184</td>\n",
       "      <td>0.357899</td>\n",
       "      <td>0.1733</td>\n",
       "      <td>Game</td>\n",
       "      <td>500</td>\n",
       "      <td>30</td>\n",
       "    </tr>\n",
       "  </tbody>\n",
       "</table>\n",
       "<p>1 rows × 303 columns</p>\n",
       "</div>"
      ],
      "text/plain": [
       "          0         1         2         3         4         5         6  \\\n",
       "0 -0.006584  0.142384 -0.325879 -0.163085  0.007788  0.021567 -0.104288   \n",
       "\n",
       "          7        8        9  ...       293       294      295      296  \\\n",
       "0 -0.079318 -0.15804  2.58415  ... -0.113279  0.101291 -0.08756 -0.18719   \n",
       "\n",
       "      297       298     299  category  goal  campaign length  \n",
       "0 -0.1184  0.357899  0.1733      Game   500               30  \n",
       "\n",
       "[1 rows x 303 columns]"
      ]
     },
     "execution_count": 184,
     "metadata": {},
     "output_type": "execute_result"
    }
   ],
   "source": [
    "X_new"
   ]
  },
  {
   "cell_type": "code",
   "execution_count": 185,
   "metadata": {},
   "outputs": [
    {
     "data": {
      "text/plain": [
       "array(['successful'], dtype=object)"
      ]
     },
     "execution_count": 185,
     "metadata": {},
     "output_type": "execute_result"
    }
   ],
   "source": [
    "loaded_model.predict(X_new)"
   ]
  },
  {
   "cell_type": "code",
   "execution_count": null,
   "metadata": {},
   "outputs": [],
   "source": []
  },
  {
   "cell_type": "code",
   "execution_count": null,
   "metadata": {},
   "outputs": [],
   "source": []
  }
 ],
 "metadata": {
  "kernelspec": {
   "display_name": "Python 3",
   "language": "python",
   "name": "python3"
  },
  "language_info": {
   "codemirror_mode": {
    "name": "ipython",
    "version": 3
   },
   "file_extension": ".py",
   "mimetype": "text/x-python",
   "name": "python",
   "nbconvert_exporter": "python",
   "pygments_lexer": "ipython3",
   "version": "3.7.9"
  }
 },
 "nbformat": 4,
 "nbformat_minor": 4
}
